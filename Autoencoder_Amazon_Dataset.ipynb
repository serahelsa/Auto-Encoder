{
 "cells": [
  {
   "attachments": {},
   "cell_type": "markdown",
   "metadata": {},
   "source": [
    "## Recommender Engine Using Autoencoder\n",
    "**Serah Elsa Abraham**"
   ]
  },
  {
   "cell_type": "markdown",
   "metadata": {
    "id": "vs_8SuBrtfOA"
   },
   "source": [
    "### Import library"
   ]
  },
  {
   "cell_type": "code",
   "execution_count": 1,
   "metadata": {
    "id": "nymyaqqUUSBl"
   },
   "outputs": [],
   "source": [
    "import sklearn\n",
    "import numpy as np\n",
    "import pandas as pd\n",
    "import torch\n",
    "import torch.nn as nn\n",
    "import torch.nn.parallel\n",
    "import torch.optim as optim\n",
    "import torch.utils.data\n",
    "from torch.autograd import Variable\n",
    "from sklearn.model_selection import train_test_split\n",
    "import matplotlib.pyplot as plt\n",
    "import seaborn as sns\n",
    "%matplotlib inline\n",
    "sns.set(color_codes=True)"
   ]
  },
  {
   "cell_type": "markdown",
   "metadata": {
    "id": "vBDl_e6Gtr2G"
   },
   "source": [
    "### Import dataset"
   ]
  },
  {
   "cell_type": "code",
   "execution_count": 2,
   "metadata": {
    "id": "-UtSuPHKVA_s"
   },
   "outputs": [],
   "source": [
    "amazon_ratings = pd.read_csv('ratings_Electronics.csv',\n",
    "                     encoding = 'latin-1', names=['userID','ProductID',\n",
    "                                           'Ratings','Timestamp'])"
   ]
  },
  {
   "cell_type": "code",
   "execution_count": 3,
   "metadata": {
    "id": "C5si-v6QVJuu"
   },
   "outputs": [],
   "source": [
    "sample_ratings = amazon_ratings.sample(frac=0.001)\n"
   ]
  },
  {
   "cell_type": "markdown",
   "metadata": {
    "id": "5vbZpgAHGAF6"
   },
   "source": [
    "### Exploratory Data Analysis"
   ]
  },
  {
   "cell_type": "code",
   "execution_count": 4,
   "metadata": {
    "id": "v0Q_b0_nVREA"
   },
   "outputs": [
    {
     "data": {
      "text/html": [
       "<div>\n",
       "<style scoped>\n",
       "    .dataframe tbody tr th:only-of-type {\n",
       "        vertical-align: middle;\n",
       "    }\n",
       "\n",
       "    .dataframe tbody tr th {\n",
       "        vertical-align: top;\n",
       "    }\n",
       "\n",
       "    .dataframe thead th {\n",
       "        text-align: right;\n",
       "    }\n",
       "</style>\n",
       "<table border=\"1\" class=\"dataframe\">\n",
       "  <thead>\n",
       "    <tr style=\"text-align: right;\">\n",
       "      <th></th>\n",
       "      <th>UserID</th>\n",
       "      <th>productID</th>\n",
       "      <th>Ratings</th>\n",
       "      <th>Timestamp</th>\n",
       "    </tr>\n",
       "  </thead>\n",
       "  <tbody>\n",
       "    <tr>\n",
       "      <th>593471</th>\n",
       "      <td>0</td>\n",
       "      <td>0</td>\n",
       "      <td>5</td>\n",
       "      <td>1127952000</td>\n",
       "    </tr>\n",
       "    <tr>\n",
       "      <th>565636</th>\n",
       "      <td>1</td>\n",
       "      <td>1</td>\n",
       "      <td>5</td>\n",
       "      <td>1339027200</td>\n",
       "    </tr>\n",
       "    <tr>\n",
       "      <th>633323</th>\n",
       "      <td>2</td>\n",
       "      <td>2</td>\n",
       "      <td>4</td>\n",
       "      <td>1297555200</td>\n",
       "    </tr>\n",
       "    <tr>\n",
       "      <th>862754</th>\n",
       "      <td>3</td>\n",
       "      <td>3</td>\n",
       "      <td>4</td>\n",
       "      <td>1168300800</td>\n",
       "    </tr>\n",
       "    <tr>\n",
       "      <th>923827</th>\n",
       "      <td>4</td>\n",
       "      <td>4</td>\n",
       "      <td>1</td>\n",
       "      <td>1358726400</td>\n",
       "    </tr>\n",
       "    <tr>\n",
       "      <th>...</th>\n",
       "      <td>...</td>\n",
       "      <td>...</td>\n",
       "      <td>...</td>\n",
       "      <td>...</td>\n",
       "    </tr>\n",
       "    <tr>\n",
       "      <th>180208</th>\n",
       "      <td>1044</td>\n",
       "      <td>878</td>\n",
       "      <td>5</td>\n",
       "      <td>1076198400</td>\n",
       "    </tr>\n",
       "    <tr>\n",
       "      <th>610432</th>\n",
       "      <td>1045</td>\n",
       "      <td>879</td>\n",
       "      <td>5</td>\n",
       "      <td>1199059200</td>\n",
       "    </tr>\n",
       "    <tr>\n",
       "      <th>254471</th>\n",
       "      <td>1046</td>\n",
       "      <td>880</td>\n",
       "      <td>5</td>\n",
       "      <td>1358035200</td>\n",
       "    </tr>\n",
       "    <tr>\n",
       "      <th>248705</th>\n",
       "      <td>1047</td>\n",
       "      <td>881</td>\n",
       "      <td>5</td>\n",
       "      <td>1104710400</td>\n",
       "    </tr>\n",
       "    <tr>\n",
       "      <th>468143</th>\n",
       "      <td>1048</td>\n",
       "      <td>882</td>\n",
       "      <td>5</td>\n",
       "      <td>1200355200</td>\n",
       "    </tr>\n",
       "  </tbody>\n",
       "</table>\n",
       "<p>1049 rows × 4 columns</p>\n",
       "</div>"
      ],
      "text/plain": [
       "        UserID  productID  Ratings   Timestamp\n",
       "593471       0          0        5  1127952000\n",
       "565636       1          1        5  1339027200\n",
       "633323       2          2        4  1297555200\n",
       "862754       3          3        4  1168300800\n",
       "923827       4          4        1  1358726400\n",
       "...        ...        ...      ...         ...\n",
       "180208    1044        878        5  1076198400\n",
       "610432    1045        879        5  1199059200\n",
       "254471    1046        880        5  1358035200\n",
       "248705    1047        881        5  1104710400\n",
       "468143    1048        882        5  1200355200\n",
       "\n",
       "[1049 rows x 4 columns]"
      ]
     },
     "execution_count": 4,
     "metadata": {},
     "output_type": "execute_result"
    }
   ],
   "source": [
    "\n",
    "del amazon_ratings\n",
    "sample_ratings['productID'] = pd.factorize(sample_ratings['ProductID'])[0]\n",
    "sample_ratings['UserID'] = pd.factorize(sample_ratings['userID'])[0]\n",
    "sample_ratings.drop(['userID', 'ProductID'], axis=1, inplace=True)\n",
    "columns = ['UserID', 'productID', 'Ratings', 'Timestamp']\n",
    "sample_ratings.reindex(columns = columns)\n"
   ]
  },
  {
   "cell_type": "code",
   "execution_count": 5,
   "metadata": {
    "colab": {
     "base_uri": "https://localhost:8080/"
    },
    "id": "lep48siRGFWQ",
    "outputId": "bff85ea0-0835-4e0c-d849-e5ad7fb9831e"
   },
   "outputs": [
    {
     "name": "stdout",
     "output_type": "stream",
     "text": [
      "Ratings      0\n",
      "Timestamp    0\n",
      "productID    0\n",
      "UserID       0\n",
      "dtype: int64\n",
      "Ratings      0\n",
      "Timestamp    0\n",
      "productID    0\n",
      "UserID       0\n",
      "dtype: int64\n"
     ]
    }
   ],
   "source": [
    "#print missing value\n",
    "print(sample_ratings.isna().sum())\n",
    "print(sample_ratings.isnull().sum())"
   ]
  },
  {
   "cell_type": "code",
   "execution_count": 6,
   "metadata": {
    "colab": {
     "base_uri": "https://localhost:8080/",
     "height": 300
    },
    "id": "b7--rnAXGdfP",
    "outputId": "8ba45e3f-cd02-493e-a74b-266e0a24b627"
   },
   "outputs": [
    {
     "data": {
      "text/html": [
       "<div>\n",
       "<style scoped>\n",
       "    .dataframe tbody tr th:only-of-type {\n",
       "        vertical-align: middle;\n",
       "    }\n",
       "\n",
       "    .dataframe tbody tr th {\n",
       "        vertical-align: top;\n",
       "    }\n",
       "\n",
       "    .dataframe thead th {\n",
       "        text-align: right;\n",
       "    }\n",
       "</style>\n",
       "<table border=\"1\" class=\"dataframe\">\n",
       "  <thead>\n",
       "    <tr style=\"text-align: right;\">\n",
       "      <th></th>\n",
       "      <th>Ratings</th>\n",
       "      <th>Timestamp</th>\n",
       "      <th>productID</th>\n",
       "      <th>UserID</th>\n",
       "    </tr>\n",
       "  </thead>\n",
       "  <tbody>\n",
       "    <tr>\n",
       "      <th>count</th>\n",
       "      <td>1049.000000</td>\n",
       "      <td>1.049000e+03</td>\n",
       "      <td>1049.000000</td>\n",
       "      <td>1049.000000</td>\n",
       "    </tr>\n",
       "    <tr>\n",
       "      <th>mean</th>\n",
       "      <td>3.958055</td>\n",
       "      <td>1.250416e+09</td>\n",
       "      <td>403.487131</td>\n",
       "      <td>524.000000</td>\n",
       "    </tr>\n",
       "    <tr>\n",
       "      <th>std</th>\n",
       "      <td>1.397296</td>\n",
       "      <td>1.074902e+08</td>\n",
       "      <td>259.124664</td>\n",
       "      <td>302.964519</td>\n",
       "    </tr>\n",
       "    <tr>\n",
       "      <th>min</th>\n",
       "      <td>1.000000</td>\n",
       "      <td>9.485856e+08</td>\n",
       "      <td>0.000000</td>\n",
       "      <td>0.000000</td>\n",
       "    </tr>\n",
       "    <tr>\n",
       "      <th>25%</th>\n",
       "      <td>3.000000</td>\n",
       "      <td>1.169856e+09</td>\n",
       "      <td>171.000000</td>\n",
       "      <td>262.000000</td>\n",
       "    </tr>\n",
       "    <tr>\n",
       "      <th>50%</th>\n",
       "      <td>5.000000</td>\n",
       "      <td>1.249430e+09</td>\n",
       "      <td>380.000000</td>\n",
       "      <td>524.000000</td>\n",
       "    </tr>\n",
       "    <tr>\n",
       "      <th>75%</th>\n",
       "      <td>5.000000</td>\n",
       "      <td>1.356566e+09</td>\n",
       "      <td>627.000000</td>\n",
       "      <td>786.000000</td>\n",
       "    </tr>\n",
       "    <tr>\n",
       "      <th>max</th>\n",
       "      <td>5.000000</td>\n",
       "      <td>1.405296e+09</td>\n",
       "      <td>882.000000</td>\n",
       "      <td>1048.000000</td>\n",
       "    </tr>\n",
       "  </tbody>\n",
       "</table>\n",
       "</div>"
      ],
      "text/plain": [
       "           Ratings     Timestamp    productID       UserID\n",
       "count  1049.000000  1.049000e+03  1049.000000  1049.000000\n",
       "mean      3.958055  1.250416e+09   403.487131   524.000000\n",
       "std       1.397296  1.074902e+08   259.124664   302.964519\n",
       "min       1.000000  9.485856e+08     0.000000     0.000000\n",
       "25%       3.000000  1.169856e+09   171.000000   262.000000\n",
       "50%       5.000000  1.249430e+09   380.000000   524.000000\n",
       "75%       5.000000  1.356566e+09   627.000000   786.000000\n",
       "max       5.000000  1.405296e+09   882.000000  1048.000000"
      ]
     },
     "execution_count": 6,
     "metadata": {},
     "output_type": "execute_result"
    }
   ],
   "source": [
    "sample_ratings.describe()"
   ]
  },
  {
   "cell_type": "code",
   "execution_count": 7,
   "metadata": {
    "colab": {
     "base_uri": "https://localhost:8080/"
    },
    "id": "ygxJalrLGyWr",
    "outputId": "c36826ed-ed6a-4253-f587-86b2c8ae11d2"
   },
   "outputs": [
    {
     "data": {
      "text/plain": [
       "UserID\n",
       "0       1\n",
       "689     1\n",
       "691     1\n",
       "692     1\n",
       "693     1\n",
       "       ..\n",
       "355     1\n",
       "356     1\n",
       "357     1\n",
       "358     1\n",
       "1048    1\n",
       "Name: Ratings, Length: 1049, dtype: int64"
      ]
     },
     "execution_count": 7,
     "metadata": {},
     "output_type": "execute_result"
    }
   ],
   "source": [
    "sample_ratings.groupby('UserID')['Ratings'].count().sort_values(ascending=False)"
   ]
  },
  {
   "cell_type": "code",
   "execution_count": 8,
   "metadata": {
    "scrolled": true
   },
   "outputs": [
    {
     "data": {
      "image/png": "[encoded data removed]",
      "text/plain": [
       "<Figure size 640x480 with 1 Axes>"
      ]
     },
     "metadata": {},
     "output_type": "display_data"
    }
   ],
   "source": [
    "\n",
    "# create the countplot with the specified colors\n",
    "ax = sns.countplot(data=sample_ratings, x='Ratings', palette=\"husl\")\n",
    "\n",
    "# set the y-axis limit to be the number of rows in the dataset\n",
    "ax.set_ylim(0, len(sample_ratings))\n",
    "\n",
    "# set the x-axis limit to be from 0 to 5\n",
    "ax.set_xlim(0, 5)\n",
    "\n",
    "# add text labels above each bar showing the percentage of rows in that bar\n",
    "for g in ax.patches:\n",
    "    height = g.get_height()\n",
    "    ax.text(g.get_x()+g.get_width()/2.75,\n",
    "            height + 7,\n",
    "            '{: %}'.format(height/float(len(sample_ratings))),\n",
    "            ha=\"center\")\n"
   ]
  },
  {
   "cell_type": "markdown",
   "metadata": {},
   "source": [
    "Observation : more than 50% of users have rated 5. So we have highest number of 5 ratings."
   ]
  },
  {
   "cell_type": "markdown",
   "metadata": {
    "id": "jHxOUCxUtyNn"
   },
   "source": [
    "### Splitting dataset into training_set and test_set"
   ]
  },
  {
   "cell_type": "code",
   "execution_count": 9,
   "metadata": {
    "colab": {
     "base_uri": "https://localhost:8080/"
    },
    "id": "gNKxRcKmGj6H",
    "outputId": "497aff26-7204-497a-8904-b552deca72d0"
   },
   "outputs": [
    {
     "data": {
      "text/plain": [
       "productID\n",
       "22     15\n",
       "52      7\n",
       "47      6\n",
       "30      6\n",
       "232     6\n",
       "       ..\n",
       "335     1\n",
       "336     1\n",
       "337     1\n",
       "338     1\n",
       "882     1\n",
       "Name: Ratings, Length: 883, dtype: int64"
      ]
     },
     "execution_count": 9,
     "metadata": {},
     "output_type": "execute_result"
    }
   ],
   "source": [
    "sample_ratings.groupby('productID')['Ratings'].count().sort_values(ascending=False)"
   ]
  },
  {
   "cell_type": "code",
   "execution_count": 11,
   "metadata": {
    "id": "niXeV3gmVaAu"
   },
   "outputs": [],
   "source": [
    "seed = 42\n",
    "train_set, test_set = train_test_split(sample_ratings, random_state=seed,test_size=0.2)"
   ]
  },
  {
   "cell_type": "markdown",
   "metadata": {
    "id": "jEY1sl-tt8J9"
   },
   "source": [
    "### Convert dataset into array"
   ]
  },
  {
   "cell_type": "code",
   "execution_count": 12,
   "metadata": {
    "colab": {
     "base_uri": "https://localhost:8080/"
    },
    "id": "BGFD1y5_Vee-",
    "outputId": "f9ce6a8e-9eb4-4dad-873a-35196e01bb9e"
   },
   "outputs": [],
   "source": [
    "\n",
    "train_set = np.array(train_set, dtype = 'int')\n",
    "test_set = np.array(test_set, dtype = 'int')"
   ]
  },
  {
   "cell_type": "markdown",
   "metadata": {
    "id": "6OaaqYLquAsl"
   },
   "source": [
    "### Getting the total number of users and products"
   ]
  },
  {
   "cell_type": "code",
   "execution_count": 13,
   "metadata": {
    "id": "TbALHrKeVo0s"
   },
   "outputs": [],
   "source": [
    "\n",
    "count_users = int(max(max(train_set[:, 3], ), max(test_set[:, 3])))\n",
    "count_products = int(max(max(train_set[:, 2], ), max(test_set[:, 2])))"
   ]
  },
  {
   "cell_type": "markdown",
   "metadata": {
    "id": "6BrYwqbluGUv"
   },
   "source": [
    "### Converting the data into an array with users in lines and products in columns"
   ]
  },
  {
   "cell_type": "code",
   "execution_count": 14,
   "metadata": {
    "id": "3EXJ2U60Vw2R"
   },
   "outputs": [],
   "source": [
    "def transform(data):\n",
    "  data_list = []\n",
    "  for id_users in range(1, count_users + 1):\n",
    "    id_products = data[:, 2] [data[:, 3] == id_users]\n",
    "    id_ratings = data[:, 1] [data[:, 3] == id_users]\n",
    "    ratings = np.zeros(count_products)\n",
    "    ratings[id_products - 1] = id_ratings\n",
    "    data_list.append(list(ratings))\n",
    "  return data_list\n",
    "train_set = transform(train_set)\n",
    "test_set = transform(test_set)\n"
   ]
  },
  {
   "cell_type": "markdown",
   "metadata": {
    "id": "qhOC5sdjuP0p"
   },
   "source": [
    "### Converting the data into Torch tensors"
   ]
  },
  {
   "cell_type": "code",
   "execution_count": 15,
   "metadata": {
    "id": "95Y9jMcBV4mP"
   },
   "outputs": [],
   "source": [
    "train_set = torch.FloatTensor(train_set)\n",
    "test_set = torch.FloatTensor(test_set)"
   ]
  },
  {
   "cell_type": "markdown",
   "metadata": {
    "id": "_1nXTs_WugFo"
   },
   "source": [
    "### Creating the architecture for the Neural Network"
   ]
  },
  {
   "cell_type": "code",
   "execution_count": null,
   "metadata": {},
   "outputs": [],
   "source": [
    "class Autoencoder(nn.Module):\n",
    "    def __init__(self):\n",
    "        super(Autoencoder, self).__init__()\n",
    "        self.encoder = nn.Linear(count_products, 20)\n",
    "        self.hidden1 = nn.Linear(20, 10)\n",
    "        self.hidden2 = nn.Linear(10, 20)\n",
    "        self.decoder = nn.Linear(20, count_products)\n",
    "        self.activation = nn.Sigmoid()\n",
    "        self.dropout = nn.Dropout(0.25)\n",
    "        \n",
    "    def forward(self, x):\n",
    "        x = self.activation(self.encoder(x))\n",
    "        x = torch.relu(x)\n",
    "        x = self.activation(self.hidden1(x))\n",
    "        x = torch.relu(x)\n",
    "        x = self.activation(self.hidden2(x))\n",
    "        x = torch.relu(x)\n",
    "        x = self.decoder(x)\n",
    "        return x"
   ]
  },
  {
   "cell_type": "markdown",
   "metadata": {},
   "source": [
    "The model also includes an activation function, dropout layer, and optimizer for training.It takes input of size count_products and reduces it to a latent representation of size 20 through several linear and non-linear layers. The latent representation is the output of the encoder network, which encodes the input data into a lower dimensional space. The decoder part of the network then tries to reconstruct the original input from this latent representation. The model also includes a dropout layer with a dropout rate of 0.25."
   ]
  },
  {
   "cell_type": "markdown",
   "metadata": {
    "id": "fB69INoJuqV8"
   },
   "source": [
    "### Training and testing the Autoencoder\n",
    "The autoencoder consists of an encoder and a decoder network, with some hidden layers in between. The encoder takes the input data and reduces it to a lower-dimensional representation, and the decoder takes this representation and reconstructs the original input data."
   ]
  },
  {
   "cell_type": "code",
   "execution_count": 30,
   "metadata": {},
   "outputs": [],
   "source": [
    "autoencoder = Autoencoder()\n",
    "\n",
    "criterion = nn.MSELoss()\n",
    "optimizer = optim.SGD(autoencoder.parameters(), lr=0.01, momentum=0.9, weight_decay=1e-5)\n"
   ]
  },
  {
   "cell_type": "markdown",
   "metadata": {},
   "source": [
    "The **MSELoss** class from the nn module is created and assigned to the variable criterion. This is the loss function that will be used to measure the difference between the output of the autoencoder and the input.\n",
    "The **SGD (Stochastic Gradient Descent) optimizer** is created and assigned to the variable optimizer. The optimizer is responsible for updating the parameters of the autoencoder during training in order to minimize the value of the loss function.\n",
    "The SGD optimizer uses a stochastic gradient descent algorithm with a fixed learning rate of 0.01, a momentum of 0.9, and a weight decay of 1e-5. The learning rate determines the step size taken in the direction of the gradient during each iteration, while the momentum parameter helps the optimizer overcome local minima and converge faster. The weight decay parameter introduces a penalty term on the size of the weights in order to prevent overfitting."
   ]
  },
  {
   "cell_type": "code",
   "execution_count": 32,
   "metadata": {},
   "outputs": [
    {
     "name": "stdout",
     "output_type": "stream",
     "text": [
      "Test loss: 1254717615.54286\n",
      "Test loss: 1254717615.54286\n",
      "Test loss: 1254717615.54286\n",
      "Test loss: 1254717615.54286\n",
      "Test loss: 1254717615.54286\n",
      "Test loss: 1254717615.54286\n",
      "Early stopping at epoch:  6\n"
     ]
    }
   ],
   "source": [
    "count_epoch = 100\n",
    "train_loss_list = []\n",
    "val_loss_list = []\n",
    "\n",
    "for epoch in range(1, count_epoch + 1):\n",
    "    train_loss = 0\n",
    "    count = 0\n",
    "    for id_user in range(count_users):\n",
    "        input = Variable(train_set[id_user]).unsqueeze(0)\n",
    "        target = input.clone()\n",
    "        if torch.sum(target.data > 0) > 0:\n",
    "            output = autoencoder(input)\n",
    "            target.require_grad = False\n",
    "            output[target == 0] = 0\n",
    "            loss = criterion(output, target)\n",
    "            mean_corrector = count_products/float(torch.sum(target.data > 0)+ 1e-10 )\n",
    "            \n",
    "            # L2 regularization\n",
    "            l2_reg = Variable(torch.FloatTensor([0.0]), requires_grad=True)\n",
    "            for param in autoencoder.parameters():\n",
    "                l2_reg = l2_reg + torch.norm(param, 2)\n",
    "            loss = loss + 1e-5 * l2_reg\n",
    "            \n",
    "            loss.backward()\n",
    "            train_loss += np.sqrt(loss.data*mean_corrector)\n",
    "            count += 1\n",
    "            optimizer.step()\n",
    "    \n",
    "    # Validation loss\n",
    "    val_loss = 0\n",
    "    total_count = 0\n",
    "    for id_user in range(count_users):\n",
    "        input = Variable(train_set[id_user]).unsqueeze(0)\n",
    "        target = Variable(test_set[id_user]).unsqueeze(0)\n",
    "        if torch.sum(target.data > 0) > 0:\n",
    "            output = autoencoder(input)\n",
    "            target.require_grad = False\n",
    "            output[target == 0] = 0\n",
    "            loss = criterion(output, target)\n",
    "            mean_corrector = count_products/float(torch.sum(target.data > 0))\n",
    "            val_loss += np.sqrt(loss.data*mean_corrector)\n",
    "            total_count += 1\n",
    "    \n",
    "    epoch_train_loss = train_loss/count\n",
    "    epoch_val_loss = val_loss/total_count\n",
    "    \n",
    "    train_loss_list.append(epoch_train_loss)\n",
    "    val_loss_list.append(epoch_val_loss)\n",
    "    \n",
    "    print(\"Test loss: {:.5f}\".format(test_loss.item()/total_count))\n",
    "    \n",
    "    # Early stopping\n",
    "    if epoch > 5 and val_loss_list[-1] > val_loss_list[-2]:\n",
    "        print(\"Early stopping at epoch: \", epoch)\n",
    "        break\n",
    "        "
   ]
  },
  {
   "cell_type": "code",
   "execution_count": 34,
   "metadata": {},
   "outputs": [
    {
     "data": {
      "image/png": "[encoded data removed]",
      "text/plain": [
       "<Figure size 640x480 with 1 Axes>"
      ]
     },
     "metadata": {},
     "output_type": "display_data"
    }
   ],
   "source": [
    "# Plotting the loss graph\n",
    "plt.plot(train_loss_list, label='Training Loss')\n",
    "plt.plot(val_loss_list, label='Validation Loss')\n",
    "plt.xlabel('Epoch')\n",
    "plt.ylabel('Loss')\n",
    "plt.legend()\n",
    "plt.show()"
   ]
  },
  {
   "cell_type": "code",
   "execution_count": null,
   "metadata": {},
   "outputs": [],
   "source": []
  }
 ],
 "metadata": {
  "colab": {
   "collapsed_sections": [],
   "name": "Jasmin_recommendation.ipynb",
   "provenance": []
  },
  "kernelspec": {
   "display_name": "Python 3 (ipykernel)",
   "language": "python",
   "name": "python3"
  },
  "language_info": {
   "codemirror_mode": {
    "name": "ipython",
    "version": 3
   },
   "file_extension": ".py",
   "mimetype": "text/x-python",
   "name": "python",
   "nbconvert_exporter": "python",
   "pygments_lexer": "ipython3",
   "version": "3.9.13"
  }
 },
 "nbformat": 4,
 "nbformat_minor": 1
}
